{
  "nbformat": 4,
  "nbformat_minor": 0,
  "metadata": {
    "colab": {
      "provenance": []
    },
    "kernelspec": {
      "name": "python3",
      "display_name": "Python 3"
    },
    "language_info": {
      "name": "python"
    }
  },
  "cells": [
    {
      "cell_type": "markdown",
      "source": [
        "***First we need to check the GCD of both numbers and make sure they are equal to 1.***"
      ],
      "metadata": {
        "id": "BsXb7Bb_LUTQ"
      }
    },
    {
      "cell_type": "code",
      "source": [
        "from math import gcd\n",
        "\n",
        "N = 21\n",
        "x = 8\n",
        "\n",
        "if gcd(N, x) == 1:\n",
        "    print(\"The greatest common divisor of {} and {} is 1.\".format(N, x))\n",
        "else:\n",
        "    print(\"The greatest common divisor of {} and {} is not equal to 1.\".format(N, x))\n"
      ],
      "metadata": {
        "colab": {
          "base_uri": "https://localhost:8080/"
        },
        "id": "hSGdBi0M-71A",
        "outputId": "141c4fd4-e481-4f32-b69f-1dc4fa88b74b"
      },
      "execution_count": null,
      "outputs": [
        {
          "output_type": "stream",
          "name": "stdout",
          "text": [
            "The greatest common divisor of 21 and 8 is 1.\n"
          ]
        }
      ]
    },
    {
      "cell_type": "markdown",
      "source": [
        "***We need to find the order 'r' of the funtion a^r(mod N) such that out of all the orders we need to select the smallest 'r' where a^r(mod N)=1***"
      ],
      "metadata": {
        "id": "PAe8tImDNg2H"
      }
    },
    {
      "cell_type": "code",
      "source": [
        "def multiplicative_order(a, n):\n",
        "    order = 1\n",
        "    mod_exp = a\n",
        "    while mod_exp != 1:\n",
        "        order += 1\n",
        "        mod_exp = (mod_exp * a) % n\n",
        "    return order\n",
        "\n",
        "def visualize(a, n):\n",
        "    for i in range(1, 9):\n",
        "        o = pow(a, i, n)\n",
        "        print(\"{}^{} mod {} = {}\".format(a, i, n, o))\n",
        "\n",
        "N = 21\n",
        "x = 8\n",
        "\n",
        "visualize(x, N)\n",
        "r = multiplicative_order(x, N)\n",
        "print(\"Order/Period = {}\".format(r))\n"
      ],
      "metadata": {
        "colab": {
          "base_uri": "https://localhost:8080/"
        },
        "id": "sF6l173U_IMh",
        "outputId": "dcb59b30-50e7-45a9-81a5-6c8a91545902"
      },
      "execution_count": null,
      "outputs": [
        {
          "output_type": "stream",
          "name": "stdout",
          "text": [
            "8^1 mod 21 = 8\n",
            "8^2 mod 21 = 1\n",
            "8^3 mod 21 = 8\n",
            "8^4 mod 21 = 1\n",
            "8^5 mod 21 = 8\n",
            "8^6 mod 21 = 1\n",
            "8^7 mod 21 = 8\n",
            "8^8 mod 21 = 1\n",
            "Order/Period = 2\n"
          ]
        }
      ]
    },
    {
      "cell_type": "markdown",
      "source": [
        "***In the above result, the Order/Period is selected as 2 because as we can see in the results, for the values of r = {2,4,6,8} the order is 1. So out of the 'r' values the least one is 2.***"
      ],
      "metadata": {
        "id": "dkw-LG9cXSEH"
      }
    },
    {
      "cell_type": "markdown",
      "source": [
        "***Here the algorithm checks whether if the 'r' value is even and for x = a^r/2(mod N),***\n",
        "\n",
        "***the (x+1) value must not be equal to 0(mod N) then***\n",
        "\n",
        "***the factors  assumed to be 'p', 'q' of the numbers would be [GCD(X+1, N), GCD(X-1, N)]***\n",
        "\n",
        "# {p,q}= [GCD(X+1, N), GCD(X-1, N)]"
      ],
      "metadata": {
        "id": "TOYyIXHxH1rJ"
      }
    },
    {
      "cell_type": "code",
      "source": [
        "factor1 = gcd(N, (x**(r//2)+1))\n",
        "factor2 = gcd(N, (x**(r//2)-1))\n",
        "print(\"Prime factors of {} is {} and {}\".format(N, factor1, factor2))"
      ],
      "metadata": {
        "colab": {
          "base_uri": "https://localhost:8080/"
        },
        "id": "PyqD3D-g0Ze2",
        "outputId": "b0ebc0ff-d685-427b-f385-bc8d6da7ba0f"
      },
      "execution_count": null,
      "outputs": [
        {
          "output_type": "stream",
          "name": "stdout",
          "text": [
            "Prime factors of 21 is 3 and 7\n"
          ]
        }
      ]
    },
    {
      "cell_type": "markdown",
      "source": [
        "***SHOR'S ALGORITHM !***      "
      ],
      "metadata": {
        "id": "7qDn-D4gOeAu"
      }
    },
    {
      "cell_type": "code",
      "source": [
        "from random import randint\n",
        "\n",
        "def solve(n):\n",
        "    while True:\n",
        "        # Step 1\n",
        "        # starts from 2 because 1 power anything is 1\n",
        "        x = randint(2, n-1)\n",
        "        tmp = gcd(x,n)\n",
        "        if tmp != 1:\n",
        "            print('We got lucky! Factor of {} is {} and {}!'.format(n, tmp, n//tmp))\n",
        "            return [tmp, n//tmp]\n",
        "        print('Generated random integer x: {}'.format(x))\n",
        "\n",
        "        # Step 2\n",
        "        # In actual shor's algorithm quantum fourier transform will be implemented here.\n",
        "        r = multiplicative_order(x, n)\n",
        "        print('Multiplicative Order of {} mod {} => {}'.format(x, n, r))\n",
        "\n",
        "        # Step 3\n",
        "        if r % 2 != 0:\n",
        "            print('{} is not even :( going back to first step...\\n'.format(r))\n",
        "            continue\n",
        "        elif (x**(r//2)+1) % n == 0:\n",
        "            print('{} is a multiple of n :( back to first step...\\n'.format(r))\n",
        "            continue\n",
        "        else:\n",
        "            factor1 = gcd(n, (x**(r//2)+1))\n",
        "            factor2 = gcd(n, (x**(r//2)-1))\n",
        "        return [factor1, factor2]"
      ],
      "metadata": {
        "id": "vAUvwqZB3Sfa"
      },
      "execution_count": null,
      "outputs": []
    },
    {
      "cell_type": "code",
      "source": [
        "n = 314191\n",
        "factors = solve(n)\n",
        "print('Factor of {} is {} and {}\\n'.format(n, factors[0], factors[1]))"
      ],
      "metadata": {
        "colab": {
          "base_uri": "https://localhost:8080/"
        },
        "id": "9iufcYyi3X85",
        "outputId": "da4cf794-326f-433b-fead-f07c59912529"
      },
      "execution_count": null,
      "outputs": [
        {
          "output_type": "stream",
          "name": "stdout",
          "text": [
            "Generated random integer x: 155478\n",
            "Multiplicative Order of 155478 mod 314191 => 17388\n",
            "Factor of 314191 is 829 and 379\n",
            "\n"
          ]
        }
      ]
    },
    {
      "cell_type": "markdown",
      "source": [
        "*MY DETAILED EXPLANATION CAN BE FOUND IN DOCS.*"
      ],
      "metadata": {
        "id": "C6AXPt9sO4e2"
      }
    }
  ]
}